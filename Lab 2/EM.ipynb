{
 "cells": [
  {
   "cell_type": "code",
   "execution_count": 12,
   "metadata": {},
   "outputs": [],
   "source": [
    "import nibabel as nib\n",
    "import matplotlib.pyplot as plt\n",
    "import os\n",
    "import cv2\n",
    "import numpy as np\n",
    "from sklearn.cluster import KMeans\n",
    "from sklearn.covariance import EmpiricalCovariance"
   ]
  },
  {
   "cell_type": "code",
   "execution_count": 13,
   "metadata": {},
   "outputs": [],
   "source": [
    "def load_nifti(file_path):\n",
    "    # Load the NIfTI image\n",
    "    nii_image = nib.load(file_path)\n",
    "\n",
    "    # Access the image data as a Numpy array\n",
    "    data_array = nii_image.get_fdata()\n",
    "\n",
    "    return data_array, nii_image\n",
    "\n",
    "def show_nifti(file_data, slice=20):\n",
    "    plt.imshow(file_data[:, :, slice], cmap='gray')  # Display a single slice (change the slice index as needed)\n",
    "    plt.title('NIfTI Image')\n",
    "    plt.colorbar()\n",
    "    plt.show()"
   ]
  },
  {
   "cell_type": "code",
   "execution_count": 3,
   "metadata": {},
   "outputs": [],
   "source": [
    "# subject_id  = str(1)\n",
    "\n",
    "# data_folder_path = os.path.join(os.getcwd(), f'../Lab 1/P2_data/{subject_id}/results_60_0.0001/')"
   ]
  },
  {
   "cell_type": "code",
   "execution_count": 4,
   "metadata": {},
   "outputs": [],
   "source": [
    "# file_name_ss        = 'output_ss_60_0.0001.nii'\n",
    "# file_name_merged    = 'merged_segmentation.nii'\n",
    "\n",
    "# nifti_file_ss = os.path.join(data_folder_path, file_name_ss)\n",
    "# nifti_file_merged = os.path.join(data_folder_path, file_name_merged)\n"
   ]
  },
  {
   "cell_type": "code",
   "execution_count": 5,
   "metadata": {},
   "outputs": [],
   "source": [
    "# nifti_vol_ss, _ = load_nifti(nifti_file_ss)\n",
    "# show_nifti(nifti_vol_ss) # ss"
   ]
  },
  {
   "cell_type": "code",
   "execution_count": 6,
   "metadata": {},
   "outputs": [],
   "source": [
    "# nifti_vol_merged, nifti_vol_merged_nii = load_nifti(nifti_file_merged)\n",
    "# show_nifti(nifti_vol_merged) # merged"
   ]
  },
  {
   "cell_type": "code",
   "execution_count": null,
   "metadata": {},
   "outputs": [],
   "source": []
  },
  {
   "cell_type": "code",
   "execution_count": null,
   "metadata": {},
   "outputs": [],
   "source": []
  },
  {
   "cell_type": "code",
   "execution_count": 7,
   "metadata": {},
   "outputs": [],
   "source": [
    "# # Load your NIfTI volume (assuming you have a function called load_nifti that loads the data)\n",
    "# # nifti_vol = load_nifti(nifti_file)\n",
    "\n",
    "# # Reshape the volume to a 2D array for clustering\n",
    "# # The shape (240, 240, 48) will be reshaped to (240 * 240 * 48, 1)\n",
    "# data = selected_tissue.reshape(-1, 1)\n",
    "\n",
    "# # Perform k-means clustering with k=3\n",
    "# kmeans = KMeans(n_clusters=4, random_state=0, n_init='auto')\n",
    "# kmeans.fit(data)\n",
    "\n",
    "# # Get the cluster labels and reshape them back to the original volume shape\n",
    "# # cluster_labels = kmeans.labels_.reshape(nifti_vol_ss.shape)\n"
   ]
  },
  {
   "cell_type": "code",
   "execution_count": null,
   "metadata": {},
   "outputs": [],
   "source": []
  },
  {
   "cell_type": "code",
   "execution_count": null,
   "metadata": {},
   "outputs": [],
   "source": []
  },
  {
   "cell_type": "code",
   "execution_count": null,
   "metadata": {},
   "outputs": [],
   "source": []
  },
  {
   "cell_type": "code",
   "execution_count": null,
   "metadata": {},
   "outputs": [],
   "source": []
  },
  {
   "cell_type": "markdown",
   "metadata": {},
   "source": [
    "#### Class code notes"
   ]
  },
  {
   "cell_type": "code",
   "execution_count": 29,
   "metadata": {},
   "outputs": [],
   "source": [
    "# Functions implementation\n",
    "\n",
    "def remove_black_bg(subject_id=1, labels_gt_file='LabelsForTesting.nii', t1_file='T1.nii', t2_file='T2_FLAIR.nii'):\n",
    "    '''Removes the black background from the skull stripped volume and returns a 1D array of the voxel intensities \\\n",
    "        of the pixels that falls in the True region of the mask, for GM, WM, and CSF.'''\n",
    "    \n",
    "    # selecting paths\n",
    "    data_folder_path    = os.path.join(os.getcwd(), f'../Lab 1/P2_data/{subject_id}')\n",
    "\n",
    "    # load the nifti files\n",
    "    labels_nifti, _ = load_nifti(os.path.join(data_folder_path, labels_gt_file))\n",
    "    t1_volume, _    = load_nifti(os.path.join(data_folder_path, t1_file))\n",
    "    t2_volume, _    = load_nifti(os.path.join(data_folder_path, t2_file))\n",
    "\n",
    "    # Selecting the tissues based on their labels\n",
    "    labels_nifti_csf = labels_nifti == 1\n",
    "    labels_nifti_gm  = labels_nifti == 2\n",
    "    labels_nifti_wm  = labels_nifti == 3\n",
    "\n",
    "    # Adding the tissues togather to make a single file for the 3 tissues\n",
    "    tissue_labels    = labels_nifti_csf + labels_nifti_gm + labels_nifti_wm\n",
    "\n",
    "    # selecting the voxel values from the skull stripped\n",
    "    t1_selected_tissue = t1_volume[tissue_labels].flatten()\n",
    "    t2_selected_tissue = t2_volume[tissue_labels].flatten()\n",
    "\n",
    "    # put both tissues into the d-dimensional data vector\n",
    "    tissue_data =  np.array([t1_selected_tissue, t2_selected_tissue]).T\n",
    "\n",
    "    # The true mask labels count must equal to the number of voxels we segmented\n",
    "    # np.count_nonzero(tissue_labels) returns the sum of pixel values that are True, the count should be equal to the number\n",
    "    # of pixels in the selected tissue array\n",
    "    assert np.count_nonzero(tissue_labels) == t1_selected_tissue.shape[0], 'Error while removing T1 black background.'\n",
    "    assert np.count_nonzero(tissue_labels) == t2_selected_tissue.shape[0], 'Error while removing T2_FLAIR black background.'\n",
    "\n",
    "    return tissue_data\n",
    "\n",
    "def initialize_parameters(random=False):\n",
    "    cluster_means = []\n",
    "    cluster_covariance_matrices = []\n",
    "\n",
    "    if not random:\n",
    "        # selecting the tissues for T1 and T2-Flair\n",
    "        tissue_data = remove_black_bg(subject_id=1, t1_file='T1.nii', t2_file='T2_FLAIR.nii')\n",
    "\n",
    "        for modality_idx in range(tissue_data.shape[1]):\n",
    "\n",
    "            # Reshape the volume to a 2D array for clustering\n",
    "            # The shape (240, 240, 48) will be reshaped to (240 * 240 * 48, 1)\n",
    "            data = tissue_data[:, modality_idx].reshape(-1, 1)\n",
    "\n",
    "            # Perform k-means clustering with k=3\n",
    "            kmeans = KMeans(n_clusters=3, random_state=0, n_init='auto')\n",
    "            kmeans.fit(data)\n",
    "\n",
    "            # Get the cluster labels\n",
    "            cluster_labels = kmeans.labels_\n",
    "\n",
    "            modality_mean = []\n",
    "            modality_covariance_metrices = []\n",
    "            # Calculate the means and covariance matrices for each cluster\n",
    "            for cluster_id in range(3):  # Assuming k=3\n",
    "                cluster_data = data[cluster_labels == cluster_id]\n",
    "                \n",
    "                # Calculate the mean for this cluster\n",
    "                cluster_mean = np.mean(cluster_data)\n",
    "                modality_mean.append(cluster_mean)\n",
    "                \n",
    "                # Calculate the empirical covariance matrix for this cluster\n",
    "                covariance_matrix = EmpiricalCovariance().fit(cluster_data)\n",
    "                modality_covariance_metrices.append(covariance_matrix.covariance_)\n",
    "\n",
    "            cluster_means.append(modality_mean)\n",
    "            cluster_covariance_matrices.append(modality_covariance_metrices)\n",
    "\n",
    "    else:\n",
    "        # random initialization of the model parameters\n",
    "        pass\n",
    "\n",
    "    return cluster_means, cluster_covariance_matrices\n",
    "    \n",
    "    "
   ]
  },
  {
   "cell_type": "code",
   "execution_count": 30,
   "metadata": {},
   "outputs": [
    {
     "name": "stdout",
     "output_type": "stream",
     "text": [
      "[[136.18756929823468, 46.378802044847916, 210.4825363596298], [146.91914100630046, 59.136528039120684, 191.23319358712368]] [[array([[487.46204583]]), array([[604.71734324]]), array([[307.11173655]])], [array([[249.01457284]]), array([[731.19641119]]), array([[436.24162289]])]]\n"
     ]
    }
   ],
   "source": [
    "# initialization, either by random initialization or k-means\n",
    "cluster_means, cluster_covariance_matrices = initialize_parameters()\n",
    "\n",
    "print(cluster_means, cluster_covariance_matrices)\n",
    "\n",
    "# loop over all iterations\n",
    "    # loop over all k-clusters\n",
    "        # compute expectation step:\n",
    "            # -\n",
    "            # -\n",
    "\n",
    "        # compute the log-likelihood stopping condition\n",
    "\n",
    "        # compute maximization step:\n",
    "            # - \n",
    "            # - \n",
    "\n"
   ]
  },
  {
   "cell_type": "code",
   "execution_count": null,
   "metadata": {},
   "outputs": [],
   "source": []
  }
 ],
 "metadata": {
  "kernelspec": {
   "display_name": "env",
   "language": "python",
   "name": "python3"
  },
  "language_info": {
   "codemirror_mode": {
    "name": "ipython",
    "version": 3
   },
   "file_extension": ".py",
   "mimetype": "text/x-python",
   "name": "python",
   "nbconvert_exporter": "python",
   "pygments_lexer": "ipython3",
   "version": "3.10.4"
  }
 },
 "nbformat": 4,
 "nbformat_minor": 2
}
